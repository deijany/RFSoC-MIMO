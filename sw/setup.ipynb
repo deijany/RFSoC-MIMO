{
 "cells": [
  {
   "cell_type": "code",
   "execution_count": 1,
   "id": "3cd95de1",
   "metadata": {},
   "outputs": [],
   "source": [
    "QPSKSymbols = [-1-1j, -1+1j,1+1j,1-1j]\n",
    "QPSKBits = [[0,0],[0,1],[1,1],[1,0]]\n",
    "QAM16Symbols = [-3-3j,-3-1j,-3+3j, -3+1j,\n",
    "                -1-3j,-1-1j,-1+3j,-1+1j,\n",
    "                3-3j,3-1j,3+3j,3+1j,\n",
    "                1-3j,1-1j,1+3j,1+1j\n",
    "               ]\n",
    "QAM16Bits = [[0,0,0,0],[0,0,0,1],[0,0,1,0],[0,0,1,1],\n",
    "             [0,1,0,0],[0,1,0,1],[0,1,1,0],[0,1,1,1],\n",
    "             [1,0,0,0],[1,0,0,1],[1,0,1,0],[1,0,1,1],\n",
    "             [1,1,0,0],[1,1,0,1],[1,1,1,0],[1,1,1,1]\n",
    "            ]\n",
    "Symbol4Function = 0+0j"
   ]
  },
  {
   "cell_type": "code",
   "execution_count": 2,
   "id": "31220569",
   "metadata": {},
   "outputs": [
    {
     "ename": "NameError",
     "evalue": "name 'Nsub' is not defined",
     "output_type": "error",
     "traceback": [
      "\u001b[0;31m---------------------------------------------------------------------------\u001b[0m",
      "\u001b[0;31mNameError\u001b[0m                                 Traceback (most recent call last)",
      "Cell \u001b[0;32mIn [2], line 6\u001b[0m\n\u001b[1;32m      4\u001b[0m OFDMSymbolCounter_gen \u001b[38;5;241m=\u001b[39m \u001b[38;5;241m0\u001b[39m\n\u001b[1;32m      5\u001b[0m SubcarrierCounter_gen \u001b[38;5;241m=\u001b[39m \u001b[38;5;241m0\u001b[39m\n\u001b[0;32m----> 6\u001b[0m H_gen \u001b[38;5;241m=\u001b[39m [\u001b[38;5;28;01mNone\u001b[39;00m]\u001b[38;5;241m*\u001b[39m(\u001b[43mNsub\u001b[49m\u001b[38;5;241m/\u001b[39m\u001b[38;5;241m/\u001b[39m(K\u001b[38;5;241m*\u001b[39mConcurrence))\n\u001b[1;32m      7\u001b[0m currentSymbolType \u001b[38;5;241m=\u001b[39m OFDMSymbolType\u001b[38;5;241m.\u001b[39mULP\n\u001b[1;32m      8\u001b[0m detMatrixCounterStore \u001b[38;5;241m=\u001b[39m \u001b[38;5;241m0\u001b[39m\n",
      "\u001b[0;31mNameError\u001b[0m: name 'Nsub' is not defined"
     ]
    }
   ],
   "source": [
    "# variable initlization\n",
    "OFDMSymbolCounter = 0\n",
    "SubcarrierCounter = 0\n",
    "OFDMSymbolCounter_gen = 0\n",
    "SubcarrierCounter_gen = 0\n",
    "H_gen = [None]*(Nsub//(K*Concurrence))\n",
    "currentSymbolType = OFDMSymbolType.ULP\n",
    "detMatrixCounterStore = 0\n",
    "HMatrixCounterStore = 0\n",
    "HMatrixCounterFetch = 0\n",
    "detMatrixCounterFetch = 0\n",
    "ULDCounter = 0\n",
    "Hest = np.array([[0+0j for _ in range(K)] for _ in range(M)])\n",
    "detMatrixMemory = np.array([[0+0j for _ in range(M)] for _ in range(Nsub)])\n",
    "HMemory = np.array([[0+0j for _ in range(M)] for _ in range(Nsub)])\n"
   ]
  },
  {
   "cell_type": "code",
   "execution_count": null,
   "id": "9738160f",
   "metadata": {},
   "outputs": [],
   "source": []
  },
  {
   "cell_type": "code",
   "execution_count": null,
   "id": "3f4c1e39",
   "metadata": {},
   "outputs": [],
   "source": []
  }
 ],
 "metadata": {
  "kernelspec": {
   "display_name": "Python 3 (ipykernel)",
   "language": "python",
   "name": "python3"
  },
  "language_info": {
   "codemirror_mode": {
    "name": "ipython",
    "version": 3
   },
   "file_extension": ".py",
   "mimetype": "text/x-python",
   "name": "python",
   "nbconvert_exporter": "python",
   "pygments_lexer": "ipython3",
   "version": "3.10.8"
  }
 },
 "nbformat": 4,
 "nbformat_minor": 5
}
