{
 "cells": [
  {
   "cell_type": "code",
   "id": "41d9c64d",
   "metadata": {
    "ExecuteTime": {
     "end_time": "2024-08-29T07:52:34.013447Z",
     "start_time": "2024-08-29T07:52:34.008993Z"
    }
   },
   "source": [
    "import numpy as np\n",
    "import enum\n",
    "from fxpmath import Fxp\n",
    "# import cmath\n",
    "import math\n",
    "import commpy as cpy\n",
    "import matplotlib.pyplot as plot\n",
    "import scipy.io"
   ],
   "outputs": [],
   "execution_count": 2
  },
  {
   "cell_type": "code",
   "id": "60d96340-f23d-4237-b692-5a535143dbf3",
   "metadata": {
    "ExecuteTime": {
     "end_time": "2024-08-29T07:54:55.508792Z",
     "start_time": "2024-08-29T07:54:55.502348Z"
    }
   },
   "source": [
    "frameNr=40\n",
    "M=32\n",
    "K=4\n",
    "Nsub=600\n",
    "Concurrence = 1\n",
    "\n",
    "n_int =16\n",
    "n_frac =10\n",
    "n_word = n_int+n_frac\n",
    "i_int =4\n",
    "i_frac =12\n",
    "i_word = i_int+i_frac\n",
    "class OFDMSymbolType(enum.Enum):\n",
    "    SYNC = 1\n",
    "    ULP = 2\n",
    "    ULD = 3\n",
    "    GUARD = 4\n",
    "    DLP = 5\n",
    "    DLD = 6\n",
    "#  frameSchedule = [OFDMSymbolType.ULP, OFDMSymbolType.ULD, OFDMSymbolType.ULD, OFDMSymbolType.GUARD, \n",
    "#                 OFDMSymbolType.DLP, OFDMSymbolType.DLD, OFDMSymbolType.DLD]\n",
    "frameSchedule = [OFDMSymbolType.ULP, OFDMSymbolType.ULD, OFDMSymbolType.ULD]\n"
   ],
   "outputs": [],
   "execution_count": 8
  },
  {
   "cell_type": "code",
   "id": "432377e5",
   "metadata": {
    "ExecuteTime": {
     "end_time": "2024-08-29T07:55:12.068071Z",
     "start_time": "2024-08-29T07:55:12.016305Z"
    }
   },
   "source": [
    "mat = scipy.io.loadmat('./../sw/matlab.mat')     #changed the path 'matlab.mat' to the correct one './../sw/matlab.mat'\n",
    "#mat = scipy.io.loadmat('channels_pyf.mat')\n",
    "mat = np.array(mat['channels_write'])\n",
    "#normalization\n",
    "factor_raw = 0\n",
    "for k in range(0,Nsub):\n",
    "    factor_raw = factor_raw + np.square(np.linalg.norm(mat[k,:,:]))\n",
    "factor = 1/np.sqrt(factor_raw/(M*K*Nsub))\n",
    "H_norm = np.full_like(mat,0)\n",
    "for k in range(0,Nsub):\n",
    "    for i in range(0,M):\n",
    "        for j in range(0,K):\n",
    "            H_norm[k,i,j] = mat[k,i,j]*factor"
   ],
   "outputs": [],
   "execution_count": 10
  },
  {
   "cell_type": "code",
   "id": "f77152f0",
   "metadata": {
    "ExecuteTime": {
     "end_time": "2024-08-29T07:55:12.858933Z",
     "start_time": "2024-08-29T07:55:12.850855Z"
    }
   },
   "source": [
    "# variable initlization\n",
    "OFDMSymbolCounter = 0\n",
    "SubcarrierCounter = 0\n",
    "OFDMSymbolCounter_gen = 0\n",
    "SubcarrierCounter_gen = 0\n",
    "H_gen = [None]*(Nsub//(K*Concurrence))\n",
    "currentSymbolType = OFDMSymbolType.SYNC\n",
    "detMatrixCounterStore = 0\n",
    "detMatrixCounterFetch = 0\n",
    "#Hest = np.array([[Fxp(0+0j,True,n_word,n_frac) for _ in range(K)] for _ in range(M)])\n",
    "\n",
    "\n",
    "#detMatrixMemory = np.array([[Fxp(0+0j, True, n_word,n_frac) for _ in range(M)] for _ in range(Nsub)])\n",
    "Hest = np.array([[0+0j for _ in range(K)] for _ in range(M)])\n",
    "detMatrixMemory = np.array([[0+0j for _ in range(M)] for _ in range(Nsub)])\n"
   ],
   "outputs": [],
   "execution_count": 11
  },
  {
   "cell_type": "code",
   "id": "74291b15",
   "metadata": {
    "ExecuteTime": {
     "end_time": "2024-08-29T07:55:15.910196Z",
     "start_time": "2024-08-29T07:55:15.902395Z"
    }
   },
   "source": [
    "# system specification\n",
    "def frame_init():\n",
    "    global qpsk\n",
    "    global pilots_symbol\n",
    "    global pilots_lut\n",
    "    global H_gen\n",
    "    global data_bits_a,data_bits_b,data_symbol_a,data_symbol_b\n",
    "    pilots_symbol = np.zeros((Nsub//(K*Concurrence),K),dtype=complex)\n",
    "    pilots_bits = np.random.binomial(n=1,p=0.5,size=(Nsub//(K*Concurrence),K*2))\n",
    "    qpsk = cpy.QAMModem(4)\n",
    "    for i in range(0,Nsub//(K*Concurrence)):\n",
    "        pilots_symbol[i,:]=np.array(qpsk.modulate(pilots_bits[i,:])/math.sqrt(2))\n",
    "    pilots_symbol = np.pad(pilots_symbol,[(0,0),(0,K*(Concurrence-1))],mode='constant',constant_values=0+0j).reshape(Nsub)\n",
    "    pilots_bits=np.pad(pilots_bits,[(0,0),(0,2*K*(Concurrence-1))],mode='constant',constant_values=0).reshape(2*Nsub)\n",
    "    #pilots_lut = Fxp(pilots_symbol,True,n_word,n_frac)\n",
    "    pilots_lut = pilots_symbol\n",
    "    for i in range(0,Nsub//(K*Concurrence)):\n",
    "        \n",
    "        H_gen[i] = H_norm[i*K*Concurrence,:,:]\n",
    "    "
   ],
   "outputs": [],
   "execution_count": 12
  },
  {
   "cell_type": "code",
   "id": "40114bef",
   "metadata": {
    "ExecuteTime": {
     "end_time": "2024-08-29T07:55:17.920737Z",
     "start_time": "2024-08-29T07:55:17.913962Z"
    }
   },
   "source": [
    "def channelprocessing():\n",
    "    global H_gen\n",
    "    global OFDMSymbolCounter_gen\n",
    "    global SubcarrierCounter_gen\n",
    "    global pilots_symbol\n",
    "    inputVector = np.zeros((M,1),dtype=complex)\n",
    "    dataVector = np.zeros((K,1),dtype=complex)\n",
    "    if SubcarrierCounter_gen == Nsub:\n",
    "        OFDMSymbolCounter_gen = OFDMSymbolCounter_gen + 1\n",
    "        if OFDMSymbolCounter_gen == 3:\n",
    "            OFDMSymbolCounter_gen = 0\n",
    "        SubcarrierCounter_gen = 0\n",
    "    currentSymbolType_gen = frameSchedule[OFDMSymbolCounter_gen]\n",
    "    H_use = H_norm[SubcarrierCounter_gen,:,:]\n",
    "\n",
    "    if currentSymbolType_gen == OFDMSymbolType.ULP:\n",
    "        pilotVector = np.zeros((K,1),dtype=complex)\n",
    "        pilotVector[SubcarrierCounter_gen % K,0] = pilots_symbol[SubcarrierCounter_gen]\n",
    "        inputVector = np.dot(H_use,pilotVector)\n",
    "    if currentSymbolType_gen == OFDMSymbolType.ULD:\n",
    "        if OFDMSymbolCounter_gen == 1:\n",
    "            dataVector[:,0] = data_symbol_a[:,SubcarrierCounter_gen]\n",
    "        else:\n",
    "            dataVector[:,0] = data_symbol_b[:,SubcarrierCounter_gen]\n",
    "        inputVector = np.dot(H_use,dataVector)       \n",
    "    SubcarrierCounter_gen = SubcarrierCounter_gen + 1\n",
    "    return inputVector\n",
    "\n",
    "    "
   ],
   "outputs": [],
   "execution_count": 13
  },
  {
   "cell_type": "code",
   "id": "2ff16cb7",
   "metadata": {
    "ExecuteTime": {
     "end_time": "2024-08-29T07:55:24.385920Z",
     "start_time": "2024-08-29T07:55:24.381738Z"
    }
   },
   "source": [
    "def flowcontrol(inputVector):\n",
    "    global OFDMSymbolCounter\n",
    "    global SubcarrierCounter\n",
    "    global currentSymbolType\n",
    "    currentSymbolType = frameSchedule[OFDMSymbolCounter]\n",
    "    tmpSubcarrierCounter = SubcarrierCounter\n",
    "    SubcarrierCounter = SubcarrierCounter + 1\n",
    "    if SubcarrierCounter == Nsub:\n",
    "        SubcarrierCounter = 0\n",
    "        OFDMSymbolCounter = OFDMSymbolCounter + 1\n",
    "        if OFDMSymbolCounter == len(frameSchedule):\n",
    "            OFDMSymbolCounter = 0\n",
    "    return tmpSubcarrierCounter, currentSymbolType"
   ],
   "outputs": [],
   "execution_count": 14
  },
  {
   "cell_type": "code",
   "id": "bfa8d3fc",
   "metadata": {
    "ExecuteTime": {
     "end_time": "2024-08-29T07:55:26.183638Z",
     "start_time": "2024-08-29T07:55:26.172887Z"
    }
   },
   "source": [
    "def ce(inputVector, tmpSubcarrierCounter, currentSymbolType):\n",
    "    \n",
    "    global detMatrixCounterStore\n",
    "    global Hest\n",
    "    global pilots_lut\n",
    "    global detMatrixMemory\n",
    "    \n",
    "    inputVector = Fxp(inputVector,True,i_word,i_frac)\n",
    "    if currentSymbolType == OFDMSymbolType.ULP:\n",
    "        subcarriersModUsers = tmpSubcarrierCounter % (K*Concurrence)\n",
    "        if subcarriersModUsers < K:\n",
    "            for i in range(0,M):\n",
    "                tmpPilot = pilots_lut[tmpSubcarrierCounter]\n",
    "                Hest[i, subcarriersModUsers] = inputVector[i]*(tmpPilot.conj())\n",
    "\n",
    "        if subcarriersModUsers == K-1:\n",
    "            detMatrix = np.array([[Fxp(0+0j,True,n_word,n_frac) for _ in range(M)] for _ in range(K)])\n",
    "            G = np.array([[Fxp(0+0j,True,n_word,n_frac) for _ in range(K)] for _ in range(K)])\n",
    "            Ginv = np.array([[Fxp(0+0j,True,n_word,n_frac) for _ in range(K)] for _ in range(K)])\n",
    "            HestHermitian = np.array([[Fxp(0+0j,True,n_word,n_frac) for _ in range(M)] for _ in range(K)])\n",
    "            #detMatrix = np.array([[0+0j for _ in range(M)] for _ in range(K)])\n",
    "            #G = np.array([[0+0j for _ in range(K)] for _ in range(K)])\n",
    "            #Ginv = np.array([[0+0j for _ in range(K)] for _ in range(K)])\n",
    "            #HestHermitian = np.array([[0+0j for _ in range(M)] for _ in range(K)])\n",
    "            for cols in range(0,K):\n",
    "                for rows in range(0,M):\n",
    "                    HestHermitian[cols,rows] = Fxp(Hest[rows,cols].conj(),True,n_word,n_frac)\n",
    "                    #HestHermitian[cols,rows] = Hest[rows,cols].conj()\n",
    "            G = Fxp(np.dot(HestHermitian, Hest),True,n_word,n_frac)\n",
    "            Ginv = Fxp(np.linalg.inv(G),True,n_word,n_frac)\n",
    "            detMatrix = Fxp(np.dot(Ginv, HestHermitian),True,n_word,n_frac)\n",
    "\n",
    "            #G = np.dot(HestHermitian, Hest)\n",
    "            #Ginv = np.linalg.inv(G)\n",
    "            #detMatrix = np.dot(Ginv, HestHermitian)\n",
    "            #detMatrix = Fxp(np.dot(Ginv, HestHermitian),True,n_word,n_frac)\n",
    "\n",
    "            for cols in range(0, K):\n",
    "                for rows in range(0,M):\n",
    "                     detMatrixMemory[detMatrixCounterStore*K+cols,rows] = detMatrix[cols,rows]\n",
    "            detMatrixCounterStore = detMatrixCounterStore + 1;\n",
    "            if detMatrixCounterStore == Nsub/(K*Concurrence):\n",
    "                detMatrixCounterStore = 0\n",
    " \n",
    "            \n",
    "        \n",
    "    "
   ],
   "outputs": [],
   "execution_count": 15
  },
  {
   "cell_type": "code",
   "id": "9a9d879f",
   "metadata": {
    "ExecuteTime": {
     "end_time": "2024-08-29T07:55:28.614548Z",
     "start_time": "2024-08-29T07:55:28.608682Z"
    }
   },
   "source": [
    "def detection(inputVector, tmpSubcarrierCounter, currentSymbolType):\n",
    "    global detMatrixCounterFetch\n",
    "    #inputVector = Fxp(inputVector,True,16,10)\n",
    "    if currentSymbolType == OFDMSymbolType.ULD:\n",
    "        subcarriersModUsers = tmpSubcarrierCounter % K\n",
    "        #detMatrix = np.array([[Fxp(0+0j,True,n_word,n_frac) for _ in range(M)] for _ in range(K)])\n",
    "        detMatrix = np.array([[0+0j for _ in range(M)] for _ in range(K)])\n",
    "        for cols in range(0,K):\n",
    "            for rows in range(0,M):\n",
    "                detMatrix[cols, rows] = detMatrixMemory[detMatrixCounterFetch*K+cols, rows]\n",
    "        detMatrixCounterFetch = math.floor((tmpSubcarrierCounter+1)/(K*Concurrence))\n",
    "        if detMatrixCounterFetch == Nsub/(K*Concurrence):\n",
    "            detMatrixCounterFetch = 0\n",
    "        #detectedVector = Fxp(np.dot(detMatrix,inputVector),True,i_word,i_frac)\n",
    "        detectedVector = np.dot(detMatrix,inputVector)\n",
    "        return detectedVector"
   ],
   "outputs": [],
   "execution_count": 16
  },
  {
   "cell_type": "code",
   "id": "4cc33bc9",
   "metadata": {
    "ExecuteTime": {
     "end_time": "2024-08-29T08:06:55.134815Z",
     "start_time": "2024-08-29T07:55:30.575076Z"
    }
   },
   "source": [
    "\n",
    "data_bits=0\n",
    "SNR_array = np.arange(0,40,1)\n",
    "\n",
    "BER_array = np.zeros((len(SNR_array),K))\n",
    "frameFactor = frameNr//len(SNR_array)\n",
    "\n",
    "qam = cpy.QAMModem(16)\n",
    "num_bit_errors = np.zeros(K)\n",
    "acc_num_bit_errors = np.zeros(K)\n",
    "\n",
    "\n",
    "for j in range(0,frameNr):\n",
    "    print(j)\n",
    "    frame_init()\n",
    "    target_snr_db =  SNR_array[j//frameFactor]\n",
    "    data_bits_a = np.random.binomial(n=1,p=0.5,size = (Nsub*K*4))\n",
    "    data_bits_b = np.random.binomial(n=1,p=0.5,size = (Nsub*K*4))\n",
    "    data_symbol_a = np.array(qam.modulate(data_bits_a)/math.sqrt(10)).reshape(K,Nsub)\n",
    "    data_symbol_b = np.array(qam.modulate(data_bits_b)/math.sqrt(10)).reshape(K,Nsub)\n",
    "    data_symbol2_a = np.zeros((K,Nsub),dtype=complex)\n",
    "    data_symbol2_b = np.zeros((K,Nsub),dtype=complex)\n",
    "\n",
    "\n",
    "    data_bits_a = data_bits_a.reshape(K,4*Nsub)\n",
    "    data_bits_b = data_bits_b.reshape(K,4*Nsub)\n",
    "    data_bits2_a = np.zeros((K,Nsub*4),dtype = int)\n",
    "    data_bits2_b = np.zeros((K,Nsub*4),dtype = int)\n",
    "\n",
    "    data_symbol2_a = np.zeros((K,Nsub),dtype=complex)\n",
    "    data_symbol2_b = np.zeros((K,Nsub),dtype=complex)\n",
    "    for i in range(0,Nsub*3): \n",
    "        inputVector1 = channelprocessing()\n",
    "        [tmpSubcarrierCounter, currentSymbolType] = flowcontrol(inputVector1)\n",
    "        inputVector_n = inputVector1\n",
    "        if currentSymbolType == OFDMSymbolType.ULD:\n",
    "            signal_power = 10*np.log10(np.square(np.linalg.norm(inputVector1)))\n",
    "            noise_power = 10**((signal_power - target_snr_db)/10)\n",
    "            noise = np.random.normal(0, 1, size=(M,2)).view(complex)\n",
    "            noise_real_power = np.square(np.linalg.norm(noise))\n",
    "            noise1 = noise*np.sqrt(noise_power/noise_real_power)\n",
    "            inputVector_n = inputVector1 + noise1\n",
    "\n",
    "        ce(inputVector1,tmpSubcarrierCounter, currentSymbolType)\n",
    "        detectedVector = detection(inputVector_n,tmpSubcarrierCounter, currentSymbolType)\n",
    "        if currentSymbolType == OFDMSymbolType.ULD:\n",
    "            if i in range(Nsub,Nsub*2):\n",
    "                data_symbol2_a[:,[i-Nsub,i-Nsub]] = detectedVector\n",
    "            else:\n",
    "                data_symbol2_b[:,[i-Nsub*2,i-Nsub*2]] = detectedVector\n",
    "    #data_symbol2_a = data_symbol2_a.reshape(Nsub*K)\n",
    "    for k in range(0,K):\n",
    "        data_bits2_a[k,:] = qam.demodulate(data_symbol2_a[k,:]*math.sqrt(10),'hard')\n",
    "        eee= cpy.utilities.hamming_dist(data_bits_a[k,:],data_bits2_a[k,:])\n",
    "\n",
    "        num_bit_errors[k]  = eee\n",
    "        acc_num_bit_errors[k] = acc_num_bit_errors[k] + num_bit_errors[k]\n",
    "\n",
    "\n",
    "    #data_symbol2_b = data_symbol2_b.reshape(Nsub*K)\n",
    "    for k in range(0,K):\n",
    "        data_bits2_b[k,:] = qam.demodulate(data_symbol2_b[k,:]*math.sqrt(10),'hard')\n",
    "        num_bit_errors[k] = cpy.utilities.hamming_dist(data_bits_b[k,:],data_bits2_b[k,:])\n",
    "        acc_num_bit_errors[k] = acc_num_bit_errors[k] + num_bit_errors[k]\n",
    "    data_bits=data_bits+data_bits_a.size+data_bits_b.size\n",
    "    if (j+1)%frameFactor == 0:\n",
    "        BER_array[j//frameFactor] = K*acc_num_bit_errors/data_bits\n",
    "\n",
    "        acc_num_bit_errors = np.zeros(K)\n",
    "        data_bits = 0\n",
    "\n"
   ],
   "outputs": [
    {
     "name": "stdout",
     "output_type": "stream",
     "text": [
      "0\n",
      "1\n",
      "2\n",
      "3\n",
      "4\n",
      "5\n",
      "6\n",
      "7\n",
      "8\n",
      "9\n",
      "10\n",
      "11\n",
      "12\n",
      "13\n",
      "14\n",
      "15\n",
      "16\n",
      "17\n",
      "18\n",
      "19\n",
      "20\n",
      "21\n",
      "22\n",
      "23\n",
      "24\n",
      "25\n",
      "26\n",
      "27\n",
      "28\n",
      "29\n",
      "30\n",
      "31\n",
      "32\n",
      "33\n",
      "34\n",
      "35\n",
      "36\n",
      "37\n",
      "38\n",
      "39\n"
     ]
    }
   ],
   "execution_count": 17
  },
  {
   "cell_type": "code",
   "id": "f90024e3",
   "metadata": {
    "ExecuteTime": {
     "end_time": "2024-08-29T08:06:55.450385Z",
     "start_time": "2024-08-29T08:06:55.137827Z"
    }
   },
   "source": [
    "plot.semilogy(SNR_array,BER_array[:,0],label=\"UE0\")\n",
    "plot.semilogy(SNR_array,BER_array[:,1],label=\"UE1\")\n",
    "plot.semilogy(SNR_array,BER_array[:,2],label=\"UE2\")\n",
    "plot.semilogy(SNR_array,BER_array[:,3],label=\"UE3\")\n",
    "plot.legend(loc=\"best\")"
   ],
   "outputs": [
    {
     "data": {
      "text/plain": [
       "<matplotlib.legend.Legend at 0x11b2fb400>"
      ]
     },
     "execution_count": 18,
     "metadata": {},
     "output_type": "execute_result"
    },
    {
     "data": {
      "text/plain": [
       "<Figure size 640x480 with 1 Axes>"
      ],
      "image/png": "[encoded data removed]"
     },
     "metadata": {},
     "output_type": "display_data"
    }
   ],
   "execution_count": 18
  },
  {
   "cell_type": "code",
   "execution_count": null,
   "id": "d6815639",
   "metadata": {},
   "outputs": [],
   "source": []
  }
 ],
 "metadata": {
  "kernelspec": {
   "display_name": "Python 3 (ipykernel)",
   "language": "python",
   "name": "python3"
  },
  "language_info": {
   "codemirror_mode": {
    "name": "ipython",
    "version": 3
   },
   "file_extension": ".py",
   "mimetype": "text/x-python",
   "name": "python",
   "nbconvert_exporter": "python",
   "pygments_lexer": "ipython3",
   "version": "3.10.8"
  }
 },
 "nbformat": 4,
 "nbformat_minor": 5
}
